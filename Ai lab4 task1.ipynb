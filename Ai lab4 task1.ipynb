{
 "cells": [
  {
   "cell_type": "code",
   "execution_count": 1,
   "id": "7d56b7c0-5573-4d3a-bc1e-47fc46971e0d",
   "metadata": {},
   "outputs": [
    {
     "name": "stdout",
     "output_type": "stream",
     "text": [
      "Probability of playing (Yes): 1.0\n",
      "Probability of not playing (No): 0.0\n",
      "Prediction: Players will play.\n"
     ]
    }
   ],
   "source": [
    "import pandas as pd\n",
    "data = {\n",
    "    \"Weather\": [\"Sunny\", \"Sunny\", \"Overcast\", \"Rainy\", \"Rainy\", \"Rainy\", \"Overcast\", \"Sunny\", \"Sunny\", \"Rainy\", \n",
    "                \"Sunny\", \"Overcast\", \"Overcast\", \"Rainy\"],\n",
    "    \"Temperature\": [\"Hot\", \"Hot\", \"Hot\", \"Mild\", \"Cool\", \"Cool\", \"Cool\", \"Mild\", \"Cool\", \"Mild\", \n",
    "                    \"Mild\", \"Mild\", \"Hot\", \"Mild\"],\n",
    "    \"Play\": [\"No\", \"No\", \"Yes\", \"Yes\", \"Yes\", \"No\", \"Yes\", \"No\", \"Yes\", \"Yes\", \n",
    "             \"No\", \"Yes\", \"Yes\", \"No\"]\n",
    "}\n",
    "\n",
    "df = pd.DataFrame(data)\n",
    "total_count = len(df)\n",
    "play_yes_count = len(df[df[\"Play\"] == \"Yes\"])\n",
    "play_no_count = len(df[df[\"Play\"] == \"No\"])\n",
    "\n",
    "p_play_yes = play_yes_count / total_count\n",
    "p_play_no = play_no_count / total_count\n",
    "\n",
    "overcast_yes_count = len(df[(df[\"Weather\"] == \"Overcast\") & (df[\"Play\"] == \"Yes\")])\n",
    "overcast_no_count = len(df[(df[\"Weather\"] == \"Overcast\") & (df[\"Play\"] == \"No\")])\n",
    "p_overcast_given_yes = overcast_yes_count / play_yes_count\n",
    "p_overcast_given_no = overcast_no_count / play_no_count\n",
    "\n",
    "mild_yes_count = len(df[(df[\"Temperature\"] == \"Mild\") & (df[\"Play\"] == \"Yes\")])\n",
    "mild_no_count = len(df[(df[\"Temperature\"] == \"Mild\") & (df[\"Play\"] == \"No\")])\n",
    "p_mild_given_yes = mild_yes_count / play_yes_count\n",
    "p_mild_given_no = mild_no_count / play_no_count\n",
    "\n",
    "p_yes_given_conditions = p_play_yes * p_overcast_given_yes * p_mild_given_yes\n",
    "p_no_given_conditions = p_play_no * p_overcast_given_no * p_mild_given_no\n",
    "\n",
    "total_posterior = p_yes_given_conditions + p_no_given_conditions\n",
    "p_yes_final = p_yes_given_conditions / total_posterior\n",
    "p_no_final = p_no_given_conditions / total_posterior\n",
    "\n",
    "print(\"Probability of playing (Yes):\", p_yes_final)\n",
    "print(\"Probability of not playing (No):\", p_no_final)\n",
    "if p_yes_final > p_no_final:\n",
    "    print(\"Prediction: Players will play.\")\n",
    "else:\n",
    "    print(\"Prediction: Players will not play.\")\n"
   ]
  },
  {
   "cell_type": "code",
   "execution_count": null,
   "id": "950ed7a7-73aa-4732-8f7d-fc195ec6ef22",
   "metadata": {},
   "outputs": [],
   "source": []
  }
 ],
 "metadata": {
  "kernelspec": {
   "display_name": "Python 3 (ipykernel)",
   "language": "python",
   "name": "python3"
  },
  "language_info": {
   "codemirror_mode": {
    "name": "ipython",
    "version": 3
   },
   "file_extension": ".py",
   "mimetype": "text/x-python",
   "name": "python",
   "nbconvert_exporter": "python",
   "pygments_lexer": "ipython3",
   "version": "3.12.7"
  }
 },
 "nbformat": 4,
 "nbformat_minor": 5
}
